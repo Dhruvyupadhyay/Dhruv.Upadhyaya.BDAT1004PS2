{
 "cells": [
  {
   "cell_type": "markdown",
   "id": "092342ac",
   "metadata": {},
   "source": [
    "## Question 1.\n",
    "Consider the following Python module:<br/>\n",
    "a = 0<br/>\n",
    "def b():<br/>\n",
    "global a<br/>\n",
    "a = c(a)<br/>\n",
    "def c(a):<br/>\n",
    "return a + 2<br/>\n",
    "After importing the module into the interpreter, you execute:<br/>\n",
    "b()<br/>\n",
    "b()<br/>\n",
    "b()<br/>\n",
    "a\n",
    "?<br/>\n",
    "What value is displayed when the last expression (a) is evaluated? Explain your answer by indicating what happens in every executed statement."
   ]
  },
  {
   "cell_type": "code",
   "execution_count": 249,
   "id": "8e2cc5d3",
   "metadata": {},
   "outputs": [
    {
     "data": {
      "text/plain": [
       "6"
      ]
     },
     "execution_count": 249,
     "metadata": {},
     "output_type": "execute_result"
    }
   ],
   "source": [
    "a = 0\n",
    "def b():\n",
    "    global a \n",
    "    a = c(a)\n",
    "def c(a):\n",
    "    return a + 2\n",
    "b()\n",
    "b()\n",
    "b()\n",
    "a"
   ]
  },
  {
   "cell_type": "markdown",
   "id": "fb3e824d",
   "metadata": {},
   "source": [
    "Expression(a) Value is 6.<br/>\n",
    "EXPLANATION :- When we run first b() the value of a is 0 but returned value is 2.<br/>\n",
    "               When we run b() second time the value of a is 2 and returned value is 4.<br/>\n",
    "               When we run b() third time the value of a is 4 and returned value is 6.<br/>\n",
    "               Hence when we run a the value would be 6."
   ]
  },
  {
   "cell_type": "markdown",
   "id": "d97e9aa0",
   "metadata": {},
   "source": [
    "## Question 2.\n",
    "Function fileLength(), given to you, takes the name of a file as input and returns the length of the file:<br/> fileLength('midterm.py') 284<br/>\n",
    "fileLength('idterm.py')<br/>\n",
    "Traceback (most recent call last):<br/>\n",
    "File \"<pyshell#34>\", line 1, in <module> <br/>\n",
    "    fileLength('idterm.py')<br/>\n",
    "    File \"/Users/me/midterm.py\", line 3, in fileLength<br/>\n",
    "    infile = open(filename)<br/>\n",
    "FileNotFoundError: [Errno 2] No such file or directory:<br/>\n",
    "'idterm.py'<br/>\n",
    "As shown above, if the file cannot be found by the interpreter or if it cannot be read as a text file, an exception will be raised. Modify function fileLength() so that a friendly message is printed instead:<br/>\n",
    "fileLength('midterm.py')<br/>\n",
    "358<br/>\n",
    "fileLength('idterm.py')<br/>\n",
    "File idterm.py not found."
   ]
  },
  {
   "cell_type": "code",
   "execution_count": 244,
   "id": "6698151b",
   "metadata": {},
   "outputs": [
    {
     "name": "stdout",
     "output_type": "stream",
     "text": [
      "File idterm.py not found.\n"
     ]
    }
   ],
   "source": [
    "def fileLength(file_name):\n",
    "    try:\n",
    "        file = open(file_name)\n",
    "        contents = file.read()\n",
    "        file.close()\n",
    "        print(len(contents))\n",
    "    except:\n",
    "        print('File '+file_name+' not found.')\n",
    "fileLength('idterm.py')"
   ]
  },
  {
   "cell_type": "markdown",
   "id": "b32e4880",
   "metadata": {},
   "source": [
    "## Question 3.\n",
    "\n",
    "Write a class named Marsupial that can be used as shown below:<br/>\n",
    "m = Marsupial()<br/>\n",
    "m.put_in_pouch('doll')<br/>\n",
    "m.put_in_pouch('firetruck')<br/>\n",
    "m.put_in_pouch('kitten')<br/>\n",
    "m.pouch_contents()<br/>\n",
    "['doll', 'firetruck', 'kitten']<br/>\n",
    "Now write a class named Kangaroo as a subclass of Marsupial that inherits all the attributes of Marsupial and also:<br/>\n",
    "a. extends the Marsupial __init__ constructor to take, as input, the coordinates x and y of the Kangaroo object,<br/>\n",
    "b. supports method jump that takes number values dx and dy as input and moves the kangaroo by dx units along the x-axis and by dy units along the y-axis, and<br/>\n",
    "c. overloads the __str__ operator so it behaves as shown below.<br/>\n",
    "k = Kangaroo(0,0)<br/>\n",
    "print(k) I am a Kangaroo located at coordinates (0,0)<br/>\n",
    "k.put_in_pouch('doll')<br/>\n",
    "k.put_in_pouch('firetruck')<br/>\n",
    "k.put_in_pouch('kitten')<br/>\n",
    "k.pouch_contents()<br/>\n",
    "['doll', 'firetruck', 'kitten']<br/>\n",
    "k.jump(1,0)<br/>\n",
    "k.jump(1,0)<br/>\n",
    "k.jump(1,0)<br/>\n",
    "print(k) <br/>\n",
    "I am a Kangaroo located at coordinates (3,0)<br/>"
   ]
  },
  {
   "cell_type": "code",
   "execution_count": 234,
   "id": "a95ca7ed",
   "metadata": {},
   "outputs": [
    {
     "name": "stdout",
     "output_type": "stream",
     "text": [
      "I am a Kangaroo located at coordinates (3,0)\n"
     ]
    }
   ],
   "source": [
    "class Marsupial(object):\n",
    "    def __init__(self): \n",
    "        self.lst = []\n",
    "    def put_in_pouch(self, item):\n",
    "        self.lst.append(item)\n",
    "    def pouch_contents(self):\n",
    "        return self.lst\n",
    "class Kangaroo (Marsupial):\n",
    "    def __init__(self,x,y): \n",
    "        Marsupial.__init__(self)\n",
    "        self.x = x\n",
    "        self.y = y\n",
    "    def jump(self, dx, dy): \n",
    "        self.x += dx\n",
    "        self.y += dy \n",
    "    def __str__(self): \n",
    "        return 'I am a Kangaroo located at coordinates ({},{})'.format(self.x, self.y)\n",
    "\n",
    "m=Marsupial()\n",
    "m.put_in_pouch('doll')\n",
    "m.put_in_pouch('firetruck')\n",
    "m.put_in_pouch ('kitten')\n",
    "m.pouch_contents()             \n",
    "k = Kangaroo (0,0) \n",
    "k.put_in_pouch('doll')\n",
    "k.put_in_pouch('Firetruck')\n",
    "k.put_in_pouch('kitten')\n",
    "k.pouch_contents()\n",
    "k.jump(1,0)\n",
    "k.jump (1,0) \n",
    "k.jump (1,0)\n",
    "print(k)"
   ]
  },
  {
   "cell_type": "markdown",
   "id": "3a017e4c",
   "metadata": {},
   "source": [
    "## Question 4. \n",
    "Write function collatz() that takes a positive integer x as input and prints the <br/>\n",
    "Collatz sequence starting at x. A Collatz sequence is obtained by repeatedly applying<br/>\n",
    "this rule to the previous number x in the sequence:<br/>\n",
    "x = { 𝑥/2 𝑖𝑓 𝑥 𝑖𝑠 𝑒𝑣𝑒𝑛   3𝑥+1 𝑖𝑓 𝑥 𝑖𝑠 𝑜𝑑𝑑<br/>\n",
    "Your function should stop when the sequence gets to number 1. Your<br/>\n",
    "implementation must be recursive, without any loops.<br/>"
   ]
  },
  {
   "cell_type": "code",
   "execution_count": 10,
   "id": "4e08ba4a",
   "metadata": {},
   "outputs": [
    {
     "name": "stdout",
     "output_type": "stream",
     "text": [
      "10\n",
      "5\n",
      "16\n",
      "8\n",
      "4\n",
      "2\n",
      "1\n"
     ]
    }
   ],
   "source": [
    "def collatz(a):\n",
    "    if a > 0:\n",
    "        if a > 1:\n",
    "            if a % 2 == 0:\n",
    "                print(a)\n",
    "                a = a/2\n",
    "            else:\n",
    "                print(a)\n",
    "                a = (a * 3) + 1\n",
    "            collatz(int(a))\n",
    "        else:\n",
    "            print(\"1\")\n",
    "    else:\n",
    "        print(\"Please enter a correct number\")\n",
    "    \n",
    "collatz(10)\n"
   ]
  },
  {
   "cell_type": "markdown",
   "id": "c07a4cfa",
   "metadata": {},
   "source": [
    "## Question 5.\n",
    "\n",
    "Write a recursive method binary() that takes a non-negative<br/>\n",
    "integer n and prints the binary representation of integer n.<br/>\n",
    "binary(0)<br/>\n",
    "0 <br/>\n",
    "binary(1)<br/> \n",
    "1 <br/>\n",
    "binary(3)<br/>\n",
    "11 <br/>\n",
    "binary(9)<br/>\n",
    "1001<br/>\n",
    "    \n"
   ]
  },
  {
   "cell_type": "code",
   "execution_count": 5,
   "id": "4c4ceb9a",
   "metadata": {},
   "outputs": [
    {
     "name": "stdout",
     "output_type": "stream",
     "text": [
      "1001\n"
     ]
    }
   ],
   "source": [
    "def binary(n):\n",
    "    if n >= 0:\n",
    "        if n==1 or n==0:\n",
    "            print(n)\n",
    "        else:\n",
    "            print (n % 2,end = '')\n",
    "            binary(n // 2)\n",
    "    else:\n",
    "        print(\"Please enter an Integer.\")\n",
    "binary (9)"
   ]
  },
  {
   "cell_type": "markdown",
   "id": "60205ac6",
   "metadata": {},
   "source": [
    "## Question 6.\n",
    "\n",
    "Implement a class named HeadingParser that can be used to parse an HTML<br/>\n",
    "document, and retrieve and print all the headings in the document. You should<br/>\n",
    "implement your class as a subclass of HTMLParser, defined in Standard Library <br/>\n",
    "module html.parser. When fed a string containing HTML code, your class should<br/>\n",
    "print the headings, one per line and in the order in which they appear in the<br/>\n",
    "document. Each heading should be indented as follows: an h1 heading should have<br/>\n",
    "indentation 0, and h2 heading should have indentation 1, etc. Test your<br/>\n",
    "implementation using w3c.html.<br/>\n",
    "infile = open('w3c.html')<br/>\n",
    "content = infile.read()<br/>\n",
    "infile.close()<br/>\n",
    "hp = HeadingParser()<br/>\n",
    "hp.feed(content)<br/>\n",
    "W3C Mission<br/>\n",
    "Principles<br/>"
   ]
  },
  {
   "cell_type": "code",
   "execution_count": 1,
   "id": "0f134079",
   "metadata": {},
   "outputs": [
    {
     "name": "stdout",
     "output_type": "stream",
     "text": [
      "W3C Mission\n",
      " Principles\n"
     ]
    }
   ],
   "source": [
    "from html.parser import HTMLParser\n",
    "\n",
    "class HeadingParser(HTMLParser):\n",
    "    totalHeadings = [\"h1\", \"h2\"]\n",
    "    currentHeading = -1\n",
    "\n",
    "    def handle_starttag(self, tag, attrs):\n",
    "        if tag in HeadingParser.totalHeadings:\n",
    "            HeadingParser.currentHeading = HeadingParser.totalHeadings.index(tag)\n",
    "    \n",
    "    def handle_endtag(self, tag):\n",
    "        if tag == HeadingParser.totalHeadings[HeadingParser.currentHeading]:\n",
    "            HeadingParser.currentHeading = -1\n",
    "            \n",
    "    def handle_data(self, data):\n",
    "        if HeadingParser.currentHeading >= 0:\n",
    "            print(\" \" * HeadingParser.currentHeading + data)\n",
    "\n",
    "fileOpen = open(\"w3c.html\",\"r\")\n",
    "fileContents = fileOpen.read()\n",
    "myHeadingParser = HeadingParser()\n",
    "myHeadingParser.feed(fileContents)\n"
   ]
  },
  {
   "cell_type": "markdown",
   "id": "d85149fb",
   "metadata": {},
   "source": [
    "## Question 7.\n",
    "\n",
    "Implement recursive function webdir() that takes as input: a URL (as a string) and<br/>\n",
    "non-negative integers depth and indent. Your function should visit every web<br/>\n",
    "page reachable from the starting URL web page in depth clicks or less, and print<br/>\n",
    "each web page's URL. As shown below, indentation, specified by indent, should<br/>\n",
    "be used to indicate the depth of a URL.<br/>\n",
    " webdir('http://reed.cs.depaul.edu/lperkovic/csc242/test1.html', 2, 0)<br/>\n",
    " http://reed.cs.depaul.edu/lperkovic/csc242/test1.html <br/>\n",
    "     http://reed.cs.depaul.edu/lperkovic/csc242/test2.html <br/>\n",
    "         http://reed.cs.depaul.edu/lperkovic/csc242/test4.html <br/>\n",
    "     http://reed.cs.depaul.edu/lperkovic/csc242/test3.html <br/>\n",
    "         http://reed.cs.depaul.edu/lperkovic/csc242/test4.html<br/>"
   ]
  },
  {
   "cell_type": "code",
   "execution_count": 79,
   "id": "c0230d64",
   "metadata": {},
   "outputs": [
    {
     "ename": "TypeError",
     "evalue": "handle_starttag() takes 3 positional arguments but 4 were given",
     "output_type": "error",
     "traceback": [
      "\u001b[1;31m---------------------------------------------------------------------------\u001b[0m",
      "\u001b[1;31mTypeError\u001b[0m                                 Traceback (most recent call last)",
      "\u001b[1;32m<ipython-input-79-0efacdfab786>\u001b[0m in \u001b[0;36m<module>\u001b[1;34m\u001b[0m\n\u001b[0;32m     30\u001b[0m \u001b[0mcollector\u001b[0m \u001b[1;33m=\u001b[0m \u001b[0mCollector\u001b[0m\u001b[1;33m(\u001b[0m\u001b[0murl\u001b[0m\u001b[1;33m)\u001b[0m\u001b[1;33m\u001b[0m\u001b[1;33m\u001b[0m\u001b[0m\n\u001b[0;32m     31\u001b[0m \u001b[0mcollector\u001b[0m\u001b[1;33m.\u001b[0m\u001b[0mfeed\u001b[0m\u001b[1;33m(\u001b[0m\u001b[0mcontent\u001b[0m\u001b[1;33m)\u001b[0m\u001b[1;33m\u001b[0m\u001b[1;33m\u001b[0m\u001b[0m\n\u001b[1;32m---> 32\u001b[1;33m \u001b[0mcollector\u001b[0m\u001b[1;33m.\u001b[0m\u001b[0mhandle_starttag\u001b[0m\u001b[1;33m(\u001b[0m\u001b[1;34m'http://www.w3.org/Consortium/mission.html'\u001b[0m\u001b[1;33m,\u001b[0m\u001b[1;36m0\u001b[0m\u001b[1;33m,\u001b[0m\u001b[1;36m2\u001b[0m\u001b[1;33m)\u001b[0m\u001b[1;33m\u001b[0m\u001b[1;33m\u001b[0m\u001b[0m\n\u001b[0m\u001b[0;32m     33\u001b[0m \u001b[1;33m\u001b[0m\u001b[0m\n\u001b[0;32m     34\u001b[0m \u001b[1;31m#webdir('http://www.w3.org/Consortium/mission.html')\u001b[0m\u001b[1;33m\u001b[0m\u001b[1;33m\u001b[0m\u001b[1;33m\u001b[0m\u001b[0m\n",
      "\u001b[1;31mTypeError\u001b[0m: handle_starttag() takes 3 positional arguments but 4 were given"
     ]
    }
   ],
   "source": [
    "from urllib.parse import urljoin\n",
    "from urllib.request import urlopen\n",
    "from html.parser import HTMLParser\n",
    "class Collector(HTMLParser):\n",
    "    'collects hyperlink URLs into a list'\n",
    "\n",
    "    def __init__(self, url):\n",
    "        'initializes parser, the url, and a list'\n",
    "        HTMLParser.__init__(self)\n",
    "        self.url = url\n",
    "        self.links = []\n",
    "\n",
    "    \n",
    "    def handle_starttag(self, tag, attrs):\n",
    "        'collects hyperlink URLs in their absolute format'\n",
    "        if tag == 'a':\n",
    "            for attr in attrs:\n",
    "                if attr[0] == 'href':\n",
    "                    # construct absolute URL\n",
    "                    absolute = urljoin(self.url, attr[1])\n",
    "                    if absolute[:4] == 'http': # collect HTTP URLs\n",
    "                        self.links.append(absolute)\n",
    "                        \n",
    "    def getLinks(self):\n",
    "        'returns hyperlinks URLs in their absolute format'\n",
    "        return self.links\n",
    "url = 'http://www.w3.org/Consortium/mission.html'\n",
    "resource = urlopen(url)\n",
    "content = resource.read().decode()\n",
    "collector = Collector(url)\n",
    "collector.feed(content)\n",
    "collector.handle_starttag('http://www.w3.org/Consortium/mission.html',0,2)\n",
    "\n",
    "#webdir('http://www.w3.org/Consortium/mission.html')\n"
   ]
  },
  {
   "cell_type": "markdown",
   "id": "44039490",
   "metadata": {},
   "source": [
    "##  Question 8.\n",
    "\n",
    "Write SQL queries on the below database table that return:<br/>\n",
    "a) All the temperature data.<br/>\n",
    "b) All the cities, but without repetition.<br/>\n",
    "c) All the records for India.<br/>\n",
    "d) All the Fall records.<br/>\n",
    "e) The city, country, and season for which the average rainfall is between 200 and 400 millimeters.<br/>\n",
    "f) The city and country for which the average Fall temperature is above 20 degrees, in increasing temperature order.<br/>\n",
    "g) The total annual rainfall for Cairo.<br/>\n",
    "h) The total rainfall for each season.<br/>"
   ]
  },
  {
   "cell_type": "markdown",
   "id": "3f6f9da6",
   "metadata": {},
   "source": [
    "\n",
    "a) SELECT temperature from tablename;<br/>\n",
    "b) SELECT distinct city from tablename;<br/>\n",
    "c) SELECT * from tablename where country =’India’;<br/>\n",
    "d) SELECT * from tablename where season =’Fall’;<br/>\n",
    "e) SELECT city, country ,season from tablename where Rainfall >= 200 and Rainfall<= 400;<br/>\n",
    "f) SELECT city, country from tablename where season = “Fall” and Temperature >20ORDER BY Temperature ASC;<br/>\n",
    "g) SELECT SUM(City=Cairo) from tablename Group by Rainfall ;<br/>\n",
    "h) SELECT SUM(Rainfall) from tablename Group by Season;<br/>\n"
   ]
  },
  {
   "cell_type": "markdown",
   "id": "8faaaa30",
   "metadata": {},
   "source": [
    "## Question 9.\n",
    "\n",
    "Suppose list words is defined as follows:<br/>\n",
    "words = ['The', 'quick', 'brown', 'fox', 'jumps', 'over',<br/>\n",
    "'the', 'lazy', 'dog']<br/>\n",
    "Write list comprehension expressions that use list words and generate the following<br/>\n",
    "lists:<br/>\n",
    "a) ['THE', 'QUICK', 'BROWN', 'FOX', 'JUMPS', 'OVER', 'THE',<br/>\n",
    "'LAZY', 'DOG']<br/>\n",
    "b) ['the', 'quick', 'brown', 'fox', 'jumps', 'over', 'the',<br/>\n",
    "'lazy', 'dog']<br/>\n",
    "c) [3, 5, 5, 3, 5, 4, 3, 4, 3] (the list of lengths of words in list<br/>\n",
    "words).<br/>\n",
    "d) [['THE', 'the', 3], ['QUICK', 'quick', 5], ['BROWN',<br/>\n",
    "'brown', 5], ['FOX', 'fox', 3], ['JUMPS', 'jumps', 5],<br/>\n",
    "['OVER', 'over', 4], ['THE', 'the', 3], ['LAZY', 'lazy',<br/>\n",
    "4], ['DOG', 'dog', 3]] (the list containing a listfor every word of list<br/>\n",
    "words, where each list contains the word in uppercase and lowercase and the<br/>\n",
    "length of the word.)<br/>\n",
    "e) ['The', 'quick', 'brown', 'fox', 'jumps', 'over', 'the',<br/>\n",
    "'lazy', 'dog'] (the list of words in list words containing 4 or more<br/>\n",
    "characters.)<br/>"
   ]
  },
  {
   "cell_type": "code",
   "execution_count": 32,
   "id": "0e40616a",
   "metadata": {},
   "outputs": [
    {
     "name": "stdout",
     "output_type": "stream",
     "text": [
      "['THE', 'QUICK', 'BROWN', 'FOX', 'JUMPS', 'OVER', 'THE', 'LAZY', 'DOG']\n",
      "['the', 'quick', 'brown', 'fox', 'jumps', 'over', 'the', 'lazy', 'dog']\n",
      "[3, 5, 5, 3, 5, 4, 3, 4, 3]\n",
      "[['THE', 'the', 3], ['QUICK', 'quick', 5], ['BROWN', 'brown', 5], ['FOX', 'fox', 3], ['JUMPS', 'jumps', 5], ['OVER', 'over', 4], ['THE', 'the', 3], ['LAZY', 'lazy', 4], ['DOG', 'dog', 3]]\n",
      "['quick', 'brown', 'jumps', 'over', 'lazy']\n"
     ]
    }
   ],
   "source": [
    "words = ['The', 'quick', 'brown', 'fox', 'jumps', 'over', 'the', 'lazy', 'dog']\n",
    "a=[]\n",
    "b=[]\n",
    "c=[]\n",
    "for word in words:\n",
    "    a.append(word.upper())\n",
    "print(a)\n",
    "for word in words:\n",
    "    b.append(word.lower())\n",
    "print(b)\n",
    "for word in words:\n",
    "    c.append(len(word))\n",
    "print(c)\n",
    "  \n",
    "all = [[x, y , z] for x, y, z in zip(a,b,c)]\n",
    "print (all)\n",
    "\n",
    "d = []\n",
    "[d.append(word) for word in words if len(word)>=4]\n",
    "print (d)\n",
    "\n"
   ]
  }
 ],
 "metadata": {
  "kernelspec": {
   "display_name": "Python 3",
   "language": "python",
   "name": "python3"
  },
  "language_info": {
   "codemirror_mode": {
    "name": "ipython",
    "version": 3
   },
   "file_extension": ".py",
   "mimetype": "text/x-python",
   "name": "python",
   "nbconvert_exporter": "python",
   "pygments_lexer": "ipython3",
   "version": "3.8.8"
  }
 },
 "nbformat": 4,
 "nbformat_minor": 5
}
